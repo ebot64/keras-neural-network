{
 "cells": [
  {
   "attachments": {},
   "cell_type": "markdown",
   "metadata": {},
   "source": [
    "### Tune Batch Size and Number of Epochs"
   ]
  },
  {
   "cell_type": "code",
   "execution_count": 2,
   "metadata": {},
   "outputs": [
    {
     "name": "stdout",
     "output_type": "stream",
     "text": [
      "Best: 0.703125 using {'batch_size': 10, 'epochs': 100}\n",
      "0.611979 (0.047019) with: {'batch_size': 10, 'epochs': 10}\n",
      "0.674479 (0.015733) with: {'batch_size': 10, 'epochs': 50}\n",
      "0.703125 (0.036782) with: {'batch_size': 10, 'epochs': 100}\n",
      "0.585938 (0.016877) with: {'batch_size': 20, 'epochs': 10}\n",
      "0.661458 (0.011201) with: {'batch_size': 20, 'epochs': 50}\n",
      "0.667969 (0.016573) with: {'batch_size': 20, 'epochs': 100}\n",
      "0.522135 (0.043303) with: {'batch_size': 40, 'epochs': 10}\n",
      "0.656250 (0.036225) with: {'batch_size': 40, 'epochs': 50}\n",
      "0.600260 (0.046475) with: {'batch_size': 40, 'epochs': 100}\n",
      "0.510417 (0.045143) with: {'batch_size': 60, 'epochs': 10}\n",
      "0.606771 (0.021236) with: {'batch_size': 60, 'epochs': 50}\n",
      "0.652344 (0.033603) with: {'batch_size': 60, 'epochs': 100}\n",
      "0.539062 (0.051031) with: {'batch_size': 80, 'epochs': 10}\n",
      "0.649740 (0.028764) with: {'batch_size': 80, 'epochs': 50}\n",
      "0.648438 (0.032369) with: {'batch_size': 80, 'epochs': 100}\n",
      "0.462240 (0.068727) with: {'batch_size': 100, 'epochs': 10}\n",
      "0.597656 (0.041463) with: {'batch_size': 100, 'epochs': 50}\n",
      "0.606771 (0.046256) with: {'batch_size': 100, 'epochs': 100}\n"
     ]
    }
   ],
   "source": [
    "# Use scikit-learn to grid search the batch size and epochs\n",
    "import numpy as np\n",
    "import tensorflow as tf\n",
    "from sklearn.model_selection import GridSearchCV\n",
    "from tensorflow.keras.models import Sequential\n",
    "from tensorflow.keras.layers import Dense\n",
    "from scikeras.wrappers import KerasClassifier\n",
    "# Function to create model, required for KerasClassifier\n",
    "def create_model():\n",
    "    # create model\n",
    "    model = Sequential()\n",
    "    model.add(Dense(12, input_shape=(8,), activation='relu'))\n",
    "    model.add(Dense(1, activation='sigmoid'))\n",
    "    # Compile model\n",
    "    model.compile(loss='binary_crossentropy', optimizer='adam', metrics=['accuracy'])\n",
    "    return model\n",
    "\n",
    "# fix random seed for reproducibility\n",
    "seed = 7\n",
    "tf.random.set_seed(seed)\n",
    "# load dataset\n",
    "dataset = np.loadtxt(\"pima-indians-diabetes.csv\", delimiter=\",\")\n",
    "# split into input (X) and output (Y) variables\n",
    "X = dataset[:,0:8]\n",
    "Y = dataset[:,8]\n",
    "# create model\n",
    "model = KerasClassifier(model=create_model, verbose=0)\n",
    "# define the grid search parameters\n",
    "batch_size = [10, 20, 40, 60, 80, 100]\n",
    "epochs = [10, 50, 100]\n",
    "param_grid = dict(batch_size=batch_size, epochs=epochs)\n",
    "grid = GridSearchCV(estimator=model, param_grid=param_grid, n_jobs=-1, cv=3)\n",
    "grid_result = grid.fit(X, Y)\n",
    "# summarize results\n",
    "print(\"Best: %f using %s\" % (grid_result.best_score_, grid_result.best_params_))\n",
    "means = grid_result.cv_results_['mean_test_score']\n",
    "stds = grid_result.cv_results_['std_test_score']\n",
    "params = grid_result.cv_results_['params']\n",
    "for mean, stdev, param in zip(means, stds, params):\n",
    "    print(\"%f (%f) with: %r\" % (mean, stdev, param))"
   ]
  },
  {
   "attachments": {},
   "cell_type": "markdown",
   "metadata": {},
   "source": [
    "### Tune the Training Optimization Algorithm"
   ]
  },
  {
   "cell_type": "code",
   "execution_count": 4,
   "metadata": {},
   "outputs": [
    {
     "name": "stdout",
     "output_type": "stream",
     "text": [
      "Best: 0.679688 using {'optimizer': 'Adam'}\n",
      "0.631510 (0.024150) with: {'optimizer': 'SGD'}\n",
      "0.677083 (0.027866) with: {'optimizer': 'RMSprop'}\n",
      "0.598958 (0.072754) with: {'optimizer': 'Adagrad'}\n",
      "0.348958 (0.001841) with: {'optimizer': 'Adadelta'}\n",
      "0.679688 (0.026107) with: {'optimizer': 'Adam'}\n",
      "0.666667 (0.027866) with: {'optimizer': 'Adamax'}\n",
      "0.644531 (0.027805) with: {'optimizer': 'Nadam'}\n"
     ]
    }
   ],
   "source": [
    "def create_model():\n",
    "    # create model\n",
    "    model = Sequential()\n",
    "    model.add(Dense(12, input_shape=(8,), activation='relu'))\n",
    "    model.add(Dense(1, activation='sigmoid'))\n",
    "    # return model without compile\n",
    "    return model\n",
    "# fix random seed for reproducibility\n",
    "seed = 7\n",
    "tf.random.set_seed(seed)\n",
    "# load dataset\n",
    "dataset = np.loadtxt(\"pima-indians-diabetes.csv\", delimiter=\",\")\n",
    "# split into input (X) and output (Y) variables\n",
    "X = dataset[:,0:8]\n",
    "Y = dataset[:,8]\n",
    "# create model\n",
    "model = KerasClassifier(model=create_model, loss=\"binary_crossentropy\", epochs=100, batch_size=10, verbose=0)\n",
    "# define the grid search parameters\n",
    "optimizer = ['SGD', 'RMSprop', 'Adagrad', 'Adadelta', 'Adam', 'Adamax', 'Nadam'] \n",
    "param_grid = dict(optimizer=optimizer)\n",
    "grid = GridSearchCV(estimator=model, param_grid=param_grid, n_jobs=-1, cv=3) \n",
    "grid_result = grid.fit(X, Y)\n",
    "# summarize results\n",
    "print(\"Best: %f using %s\" % (grid_result.best_score_, grid_result.best_params_)) \n",
    "means = grid_result.cv_results_['mean_test_score']\n",
    "stds = grid_result.cv_results_['std_test_score'] \n",
    "params = grid_result.cv_results_['params']\n",
    "for mean, stdev, param in zip(means, stds, params):\n",
    "    print(\"%f (%f) with: %r\" % (mean, stdev, param))\n"
   ]
  },
  {
   "attachments": {},
   "cell_type": "markdown",
   "metadata": {},
   "source": []
  },
  {
   "cell_type": "code",
   "execution_count": 6,
   "metadata": {},
   "outputs": [
    {
     "name": "stdout",
     "output_type": "stream",
     "text": [
      "Best: 0.692708 using {'model__optimizer': 'Adamax'}\n",
      "0.649740 (0.003683) with: {'model__optimizer': 'SGD'}\n",
      "0.595052 (0.086547) with: {'model__optimizer': 'RMSprop'}\n",
      "0.496094 (0.089304) with: {'model__optimizer': 'Adagrad'}\n",
      "0.614583 (0.030145) with: {'model__optimizer': 'Adadelta'}\n",
      "0.686198 (0.017566) with: {'model__optimizer': 'Adam'}\n",
      "0.692708 (0.021236) with: {'model__optimizer': 'Adamax'}\n",
      "0.690104 (0.025582) with: {'model__optimizer': 'Nadam'}\n"
     ]
    }
   ],
   "source": [
    "# Use scikit-learn to grid search the optimization algorithms\n",
    "import numpy as np\n",
    "import tensorflow as tf\n",
    "from sklearn.model_selection import GridSearchCV\n",
    "from tensorflow.keras.models import Sequential\n",
    "from tensorflow.keras.layers import Dense\n",
    "from scikeras.wrappers import KerasClassifier\n",
    "# Function to create model, required for KerasClassifier\n",
    "def create_model(optimizer='adam'):\n",
    "    # create model\n",
    "    model = Sequential()\n",
    "    model.add(Dense(12, input_shape=(8,), activation='relu'))\n",
    "    model.add(Dense(1, activation='sigmoid'))\n",
    "    # Compile model\n",
    "    model.compile(loss='binary_crossentropy', optimizer=optimizer, metrics=['accuracy'])\n",
    "    return model\n",
    "# fix random seed for reproducibility\n",
    "seed = 7\n",
    "tf.random.set_seed(seed)\n",
    "# load dataset\n",
    "dataset = np.loadtxt(\"pima-indians-diabetes.csv\", delimiter=\",\")\n",
    "# split into input (X) and output (Y) variables\n",
    "X = dataset[:,0:8]\n",
    "Y = dataset[:,8]\n",
    "# create model\n",
    "model = KerasClassifier(model=create_model, epochs=100, batch_size=10, verbose=0)\n",
    "# define the grid search parameters\n",
    "optimizer = ['SGD', 'RMSprop', 'Adagrad', 'Adadelta', 'Adam', 'Adamax', 'Nadam']\n",
    "param_grid = dict(model__optimizer=optimizer)\n",
    "grid = GridSearchCV(estimator=model, param_grid=param_grid, n_jobs=-1, cv=3)\n",
    "grid_result = grid.fit(X, Y)\n",
    "# summarize results\n",
    "print(\"Best: %f using %s\" % (grid_result.best_score_, grid_result.best_params_))\n",
    "means = grid_result.cv_results_['mean_test_score']\n",
    "stds = grid_result.cv_results_['std_test_score']\n",
    "params = grid_result.cv_results_['params']\n",
    "for mean, stdev, param in zip(means, stds, params):\n",
    "    print(\"%f (%f) with: %r\" % (mean, stdev, param))"
   ]
  },
  {
   "attachments": {},
   "cell_type": "markdown",
   "metadata": {},
   "source": [
    "```\n",
    "Best: 0.705729 using {'model__optimizer': 'Nadam'}\n",
    "0.622396 (0.042353) with: {'model__optimizer': 'SGD'}\n",
    "0.597656 (0.056065) with: {'model__optimizer': 'RMSprop'}\n",
    "0.604167 (0.050463) with: {'model__optimizer': 'Adagrad'}\n",
    "0.559896 (0.038976) with: {'model__optimizer': 'Adadelta'}\n",
    "0.679688 (0.003189) with: {'model__optimizer': 'Adam'}\n",
    "0.669271 (0.025780) with: {'model__optimizer': 'Adamax'}\n",
    "0.705729 (0.019225) with: {'model__optimizer': 'Nadam'}\n",
    "```\n",
    "\n",
    "### Tune Learning Rate and Momentum"
   ]
  },
  {
   "cell_type": "code",
   "execution_count": null,
   "metadata": {},
   "outputs": [],
   "source": []
  }
 ],
 "metadata": {
  "kernelspec": {
   "display_name": "tf",
   "language": "python",
   "name": "python3"
  },
  "language_info": {
   "codemirror_mode": {
    "name": "ipython",
    "version": 3
   },
   "file_extension": ".py",
   "mimetype": "text/x-python",
   "name": "python",
   "nbconvert_exporter": "python",
   "pygments_lexer": "ipython3",
   "version": "3.10.13"
  },
  "orig_nbformat": 4
 },
 "nbformat": 4,
 "nbformat_minor": 2
}
